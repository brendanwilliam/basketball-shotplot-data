{
 "cells": [
  {
   "cell_type": "code",
   "execution_count": 5,
   "metadata": {},
   "outputs": [],
   "source": [
    "# Imports\n",
    "from bs4 import BeautifulSoup\n",
    "import os\n",
    "import requests\n",
    "import json\n",
    "import time\n",
    "import random\n",
    "\n",
    "\n",
    "# Constants\n",
    "\n",
    "# URL beginning and end to access pages with shot charts\n",
    "URL_START = \"https://www.nba.com/game/00\"\n",
    "URL_END = \"/game-charts\"\n",
    "\n",
    "# Base number for game URLs (2022-2023 season) and total games for the season\n",
    "# Note: Each game URL increments by 1 from `22200001` to `22201230`\n",
    "GAME_NUM_BASE = 22300001\n",
    "TOTAL_GAMES = 1230\n",
    "\n",
    "# All game URLs for 2022-2023 season\n",
    "URL_LIST = []\n",
    "for game in range(TOTAL_GAMES):\n",
    "  req_url = URL_START + str(GAME_NUM_BASE + game) + URL_END\n",
    "  URL_LIST.append(req_url)\n",
    "\n",
    "# Request headers\n",
    "HEADERS = {\n",
    "    'Access-Control-Allow-Origin': '*',\n",
    "    'Access-Control-Allow-Methods': 'GET',\n",
    "    'Access-Control-Allow-Headers': 'Content-Type',\n",
    "    'Access-Control-Max-Age': '3600',\n",
    "    'User-Agent': 'Mozilla/5.0 (X11; Ubuntu; Linux x86_64; rv:52.0) Gecko/20100101 Firefox/52.0'\n",
    "    }\n",
    "\n",
    "# Export directory path\n",
    "EXPORT_PATH = \"../../src/data/raw/\"\n"
   ]
  },
  {
   "cell_type": "code",
   "execution_count": 41,
   "metadata": {},
   "outputs": [
    {
     "name": "stdout",
     "output_type": "stream",
     "text": [
      "Error: Could not save JSON object to file with code 0001\n",
      "None\n"
     ]
    }
   ],
   "source": [
    "def get_soup(url):\n",
    "  \"\"\"\n",
    "  Function to get the soup object from a given URL\n",
    "\n",
    "  Args:\n",
    "    url (str): URL to scrape\n",
    "\n",
    "  Returns:\n",
    "    soup (BeautifulSoup): Soup object of the URL\n",
    "\n",
    "  \"\"\"\n",
    "  try:\n",
    "    response = requests.get(url, headers=HEADERS)\n",
    "    soup = BeautifulSoup(response.text, 'html.parser')\n",
    "    return soup\n",
    "  except:\n",
    "    print(\"Error: Could not get soup object from URL\")\n",
    "    return None\n",
    "\n",
    "def get_json(soup):\n",
    "  \"\"\"\n",
    "  Function to get the JSON object from a given soup object.\n",
    "  Note: The JSON object is stored in a script tag with the id \"__NEXT_DATA__\"\n",
    "\n",
    "  Args:\n",
    "    soup (BeautifulSoup): Soup object of the URL\n",
    "\n",
    "  Returns:\n",
    "    json_obj (dict): JSON object of the URL's play-by-play data\n",
    "\n",
    "  \"\"\"\n",
    "  try:\n",
    "    script = soup.find(id=\"__NEXT_DATA__\")\n",
    "    json_obj = json.loads(script.text)\n",
    "    return json_obj['props']['pageProps']['playByPlay']['actions']\n",
    "  except:\n",
    "    print(\"Error: Could not get play-by-play JSON object from soup object\")\n",
    "    return None\n",
    "\n",
    "\n",
    "def save_json(json_obj, game_num):\n",
    "  \"\"\"\n",
    "  Function to save the JSON object to a file\n",
    "\n",
    "  Args:\n",
    "    json_obj (dict): JSON object to save\n",
    "    game_num (int): Game number to save the JSON object as\n",
    "\n",
    "  \"\"\"\n",
    "  try:\n",
    "    with open(EXPORT_PATH + \"S2324-G\" + \"{0:0=4d}\".format(game_num) + \".json\", 'w') as f:\n",
    "      json.dump(json_obj, f, indent=4)\n",
    "  except:\n",
    "    print(f\"Error: Could not save JSON object to file with code {game_num}\")\n",
    "\n",
    "soup = get_soup(\"http://www.nba.com/game/0022200001/game-charts\")\n",
    "script = get_json(soup)\n",
    "\n",
    "print(save_json(script, \"0001\"))"
   ]
  },
  {
   "cell_type": "code",
   "execution_count": 42,
   "metadata": {},
   "outputs": [
    {
     "name": "stdout",
     "output_type": "stream",
     "text": [
      "Exported game 1\n"
     ]
    }
   ],
   "source": [
    "def export_game(game_num):\n",
    "  \"\"\"\n",
    "  Function to export the JSON object of a game to a file\n",
    "\n",
    "  Args:\n",
    "    game_num (int): Game number to export\n",
    "\n",
    "  \"\"\"\n",
    "  url = URL_LIST[game_num - 1]\n",
    "  soup = get_soup(url)\n",
    "  json_obj = get_json(soup)\n",
    "  save_json(json_obj, game_num)\n",
    "  print(f\"Exported game {game_num}\")\n",
    "\n",
    "export_game(1)"
   ]
  },
  {
   "cell_type": "code",
   "execution_count": 43,
   "metadata": {},
   "outputs": [],
   "source": [
    "def export_all_games():\n",
    "  \"\"\"\n",
    "  Function to export all games from the 2023-2024 season\n",
    "\n",
    "  \"\"\"\n",
    "  try:\n",
    "    for game_num in range(TOTAL_GAMES):\n",
    "      export_game(game_num)\n",
    "      time.sleep(random.randint(1, 3))\n",
    "  except:\n",
    "    print(\"Error: Could not export all games\")"
   ]
  },
  {
   "cell_type": "code",
   "execution_count": 44,
   "metadata": {},
   "outputs": [
    {
     "name": "stdout",
     "output_type": "stream",
     "text": [
      "Exported game 0\n",
      "Exported game 1\n",
      "Exported game 2\n",
      "Exported game 3\n",
      "Exported game 4\n",
      "Error: Could not export all games\n"
     ]
    }
   ],
   "source": [
    "export_all_games()"
   ]
  },
  {
   "cell_type": "code",
   "execution_count": null,
   "metadata": {},
   "outputs": [],
   "source": []
  }
 ],
 "metadata": {
  "kernelspec": {
   "display_name": "Python 3",
   "language": "python",
   "name": "python3"
  },
  "language_info": {
   "codemirror_mode": {
    "name": "ipython",
    "version": 3
   },
   "file_extension": ".py",
   "mimetype": "text/x-python",
   "name": "python",
   "nbconvert_exporter": "python",
   "pygments_lexer": "ipython3",
   "version": "3.12.4"
  }
 },
 "nbformat": 4,
 "nbformat_minor": 2
}
