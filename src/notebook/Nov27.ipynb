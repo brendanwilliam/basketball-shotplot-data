{
 "cells": [
  {
   "cell_type": "markdown",
   "metadata": {},
   "source": [
    "# Shot mesh visualizations for additional NBA teams\n",
    "Applying the same gravitational potential principle for other NBA team shot meshes."
   ]
  },
  {
   "cell_type": "code",
   "execution_count": 43,
   "metadata": {},
   "outputs": [],
   "source": [
    "import numpy as np\n",
    "import pandas as pd\n",
    "import plotly.graph_objects as go\n",
    "from sklearn.preprocessing import normalize\n",
    "\n",
    "def createShotMesh(data, fp, team, season):\n",
    "\n",
    "    # Read point masses from a CSV file\n",
    "    df = pd.read_csv(data)\n",
    "\n",
    "    # Extract x, y, and m values\n",
    "    masses = df[['x', 'y', 'm']].values  # Convert to NumPy array\n",
    "\n",
    "    # Gravitational constant (arbitrary scaling factor for visualization)\n",
    "    G = 1\n",
    "\n",
    "    # Create a grid of points\n",
    "    x_min, x_max = -250, 250\n",
    "    y_min, y_max = -42, 458\n",
    "    x, y = np.linspace(x_min, x_max, 101), np.linspace(y_min, y_max, 101)\n",
    "    X, Y = np.meshgrid(x, y)\n",
    "\n",
    "    # Initialize the potential energy array\n",
    "    U = np.zeros(X.shape)\n",
    "\n",
    "    # Calculate the potential energy at each grid point\n",
    "    for mx, my, m in masses:\n",
    "        dx = X - mx\n",
    "        dy = Y - my\n",
    "        r = np.sqrt(dx**2 + dy**2)\n",
    "        r = np.where(r != 0, r, np.inf)  # Avoid division by zero\n",
    "        U += G * m / r\n",
    "\n",
    "    # Scale the potential energy for better visualization\n",
    "    U_scaled = (U - U.min() + 1) / (U.max() - U.min())\n",
    "    U_scaled = np.log1p(U_scaled)  # Log scaling for better contrast\n",
    "    U_scaled = np.log1p(np.sqrt(U_scaled))  # Log scaling for better contrast\n",
    "\n",
    "    # Create the 3D interactive plot using Plotly\n",
    "    fig = go.Figure()\n",
    "\n",
    "    # Add the surface for potential energy\n",
    "    fig.add_trace(go.Surface(z=U_scaled, x=X, y=Y, colorscale='inferno', colorbar=dict(title=\"Shot Potential\")))\n",
    "\n",
    "    # Update layout for better visualization\n",
    "    fig.update_layout(\n",
    "        title=f\"{team} {season} Season - Shot Potential Energy\",\n",
    "        scene=dict(\n",
    "            xaxis_title='X',\n",
    "            yaxis_title='Y',\n",
    "            zaxis_title='Shot Potential'\n",
    "        ),\n",
    "        margin=dict(l=0, r=0, b=0, t=40),\n",
    "    )\n",
    "\n",
    "    # Show the interactive plot\n",
    "    fig.write_html(fp)"
   ]
  },
  {
   "cell_type": "code",
   "execution_count": 6,
   "metadata": {},
   "outputs": [],
   "source": [
    "createShotMesh('BOS_shotgravity.csv', 'shotgravityfunction.html', 'Boston Celtics', '2023-24')"
   ]
  },
  {
   "cell_type": "markdown",
   "metadata": {},
   "source": [
    "# Clean data for shot mesh function"
   ]
  },
  {
   "cell_type": "code",
   "execution_count": 14,
   "metadata": {},
   "outputs": [],
   "source": [
    "import pandas as pd\n",
    "\n",
    "fp = '../../data/processed/S2324/S2324_all_play-by-play.csv'\n",
    "\n",
    "def createShotMass(fp, teamTricode):\n",
    "\n",
    "    df = pd.read_csv(fp)\n",
    "\n",
    "    df = df[(df['teamTricode'] == teamTricode) & (df['isFieldGoal'] == 1)]\n",
    "\n",
    "    cols = ['xLegacy', 'yLegacy', 'scoreVal']\n",
    "    df = df[cols].reset_index(drop=True)\n",
    "\n",
    "    df['m'] = df['scoreVal'] - 1\n",
    "    df = df.rename(columns={'xLegacy': 'x', 'yLegacy': 'y'})\n",
    "    df = df.drop(columns=['scoreVal'])\n",
    "    df.to_csv(f\"shotmass/{teamTricode}_shotmass.csv\", index=False)\n",
    "\n",
    "createShotMass(fp, 'BOS')"
   ]
  },
  {
   "cell_type": "markdown",
   "metadata": {},
   "source": [
    "## Create all shotmass files for each team"
   ]
  },
  {
   "cell_type": "code",
   "execution_count": 15,
   "metadata": {},
   "outputs": [],
   "source": [
    "fp = '../../data/processed/S2324/S2324_all_play-by-play.csv'\n",
    "df = pd.read_csv(fp)\n",
    "teams = df['teamTricode'].unique()\n",
    "# Remove nan from teams\n",
    "teams = teams[~pd.isnull(teams)]\n",
    "\n",
    "for team in teams:\n",
    "    createShotMass(fp, team)"
   ]
  },
  {
   "cell_type": "markdown",
   "metadata": {},
   "source": [
    "## Turn all shotmass files into potential energy visualizations"
   ]
  },
  {
   "cell_type": "code",
   "execution_count": 44,
   "metadata": {},
   "outputs": [],
   "source": [
    "# For every file in a given directory, create a shot mesh\n",
    "import os\n",
    "import pandas as pd\n",
    "\n",
    "directory = 'shotmass'\n",
    "for filename in os.listdir(directory):\n",
    "    if filename.endswith(\".csv\"):\n",
    "        team = filename.split('_')[0]\n",
    "        createShotMesh(f\"{directory}/{filename}\", f\"shotmesh_v0/{team}_shotmesh.html\", team, '2023-24')\n",
    "    else:\n",
    "        continue\n",
    "\n"
   ]
  },
  {
   "cell_type": "code",
   "execution_count": null,
   "metadata": {},
   "outputs": [],
   "source": []
  }
 ],
 "metadata": {
  "kernelspec": {
   "display_name": "Python 3",
   "language": "python",
   "name": "python3"
  },
  "language_info": {
   "codemirror_mode": {
    "name": "ipython",
    "version": 3
   },
   "file_extension": ".py",
   "mimetype": "text/x-python",
   "name": "python",
   "nbconvert_exporter": "python",
   "pygments_lexer": "ipython3",
   "version": "3.12.4"
  }
 },
 "nbformat": 4,
 "nbformat_minor": 2
}
