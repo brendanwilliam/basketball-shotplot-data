{
 "cells": [
  {
   "cell_type": "markdown",
   "metadata": {},
   "source": [
    "# Crawling All Games in the NBA Play-by-Play Era\n",
    "This notebook will crawl through all NBA games in the play-by-play era (1997-Present). Each file path with take on the following structure:\n",
    "\n",
    "`src/raw/play-by-play/<game_type>/<season>/<game_id>.json`"
   ]
  },
  {
   "cell_type": "code",
   "execution_count": null,
   "metadata": {},
   "outputs": [],
   "source": [
    "# Get urls for all games in a given season.\n",
    "import pandas as pd\n",
    "\n",
    "fp = '../about/game_ids.csv'\n",
    "df = pd.read_csv(fp)\n",
    "\n",
    "def get_season_urls(df, season, game_type):\n",
    "    urls = []\n",
    "    for i, row in df.iterrows():\n",
    "        if row['season'] == season and row['game_type'] == game_type:\n",
    "            urls.append(row['game_url'])\n",
    "\n",
    "    return urls\n"
   ]
  },
  {
   "cell_type": "code",
   "execution_count": 96,
   "metadata": {},
   "outputs": [
    {
     "name": "stdout",
     "output_type": "stream",
     "text": [
      "1997: 72 games\n",
      "1998: 71 games\n",
      "1999: 66 games\n",
      "2000: 75 games\n",
      "2001: 71 games\n",
      "2002: 71 games\n",
      "2003: 88 games\n",
      "2004: 82 games\n",
      "2005: 84 games\n",
      "2006: 89 games\n",
      "2007: 79 games\n",
      "2008: 86 games\n",
      "2009: 85 games\n",
      "2010: 82 games\n",
      "2011: 81 games\n",
      "2012: 84 games\n",
      "2013: 85 games\n",
      "2014: 89 games\n",
      "2015: 81 games\n",
      "2016: 86 games\n",
      "2017: 79 games\n",
      "2018: 82 games\n",
      "2019: 82 games\n",
      "2020: 83 games\n",
      "2021: 85 games\n",
      "2022: 87 games\n",
      "2023: 84 games\n",
      "2024: 82 games\n",
      "2025: 0 games\n"
     ]
    }
   ],
   "source": [
    "# Get urls for all games in a given season.\n",
    "import pandas as pd\n",
    "\n",
    "fp = '../about/game_ids.csv'\n",
    "df = pd.read_csv(fp)\n",
    "\n",
    "def get_season_urls(df, season, game_type):\n",
    "    urls = []\n",
    "    for i, row in df.iterrows():\n",
    "        if row['season'] == season and row['game_type'] == game_type:\n",
    "            urls.append(row['game_url'])\n",
    "\n",
    "    return urls\n",
    "\n",
    "\n",
    "START = 1997\n",
    "END = 2025\n",
    "\n",
    "for season in range(START, END + 1):\n",
    "    urls = get_season_urls(df, season, 'playoff')\n",
    "    print(f'{season}: {len(urls)} games')\n",
    "    with open(f'../about/playoff_urls/{season}.txt', 'w') as f:\n",
    "        for url in urls:\n",
    "            f.write(url + '\\n')"
   ]
  },
  {
   "cell_type": "code",
   "execution_count": 102,
   "metadata": {},
   "outputs": [
    {
     "name": "stdout",
     "output_type": "stream",
     "text": [
      "Retrying... (1/3)\n",
      "Retrying... (1/3)\n",
      "Retrying... (1/3)\n",
      "Retrying... (1/3)\n"
     ]
    }
   ],
   "source": [
    "from bs4 import BeautifulSoup\n",
    "import requests\n",
    "import json\n",
    "import sys\n",
    "\n",
    "def export_game(url, fp, season):\n",
    "    try:\n",
    "        headers = {\n",
    "            'Access-Control-Allow-Origin': '*',\n",
    "            'Access-Control-Allow-Methods': 'GET',\n",
    "            'Access-Control-Allow-Headers': 'Content-Type',\n",
    "            'Access-Control-Max-Age': '3600',\n",
    "            'User-Agent': 'Mozilla/5.0 (X11; Ubuntu; Linux x86_64; rv:52.0) Gecko/20100101 Firefox/52.0'\n",
    "        }\n",
    "\n",
    "        retries = 3\n",
    "        for attempt in range(retries):\n",
    "            r = requests.get(url, headers=headers)\n",
    "            soup = BeautifulSoup(r.text, 'html.parser')\n",
    "            script = soup.find(id=\"__NEXT_DATA__\")\n",
    "\n",
    "            if script is not None:\n",
    "                break\n",
    "            elif attempt < retries - 1:\n",
    "                print(f'Retrying... ({attempt + 1}/{retries})\\tURL: {url}')\n",
    "            else:\n",
    "                print(f'Failed to retrieve data after {retries} attempts for URL: {url}')\n",
    "                return\n",
    "\n",
    "        json_obj = json.loads(script.text)\n",
    "        json_obj = json_obj['props']['pageProps']['playByPlay']['actions']\n",
    "\n",
    "        if not json_obj:\n",
    "            print(f'No data found for URL: {url}')\n",
    "            return\n",
    "\n",
    "        fp = fp if fp.endswith('.json') else fp + '.json'\n",
    "        fp = f'./{season}/{fp}'\n",
    "        with open(out, 'w') as f:\n",
    "            json.dump(json_obj, f, indent=4)\n",
    "\n",
    "    except Exception as e:\n",
    "        print(e)\n",
    "        sys.exit(1)\n",
    "    return json_obj\n",
    "\n",
    "# Tests export_game and exports into src/data/scripts folder/\n",
    "# Open the text file in the playoff_urls folder and test the function for each URL.\n",
    "fp = '../about/playoff_urls/1997.txt'\n",
    "with open(fp, 'r') as f:\n",
    "    urls = f.readlines()\n",
    "    for url in urls:\n",
    "        url = url.strip()\n",
    "        out = f'../raw/play-by-play/playoff/{fp[-8:-4]}/{url.split(\"/\")[-1]}.json'\n",
    "        export_game(url, out, 1997)\n"
   ]
  },
  {
   "cell_type": "code",
   "execution_count": 2,
   "metadata": {},
   "outputs": [
    {
     "data": {
      "text/plain": [
       "(1214, 8)"
      ]
     },
     "execution_count": 2,
     "metadata": {},
     "output_type": "execute_result"
    }
   ],
   "source": [
    "import pandas as pd\n",
    "\n",
    "fp = '../about/regseason_game_ids.csv'\n",
    "df = pd.read_csv(fp)\n",
    "\n",
    "team = 'CLE'\n",
    "df = df[(df['season'] == 2025) & (df['game_type'] == 'regular')]\n",
    "df.shape"
   ]
  },
  {
   "cell_type": "code",
   "execution_count": null,
   "metadata": {},
   "outputs": [],
   "source": []
  }
 ],
 "metadata": {
  "kernelspec": {
   "display_name": "Python 3",
   "language": "python",
   "name": "python3"
  },
  "language_info": {
   "codemirror_mode": {
    "name": "ipython",
    "version": 3
   },
   "file_extension": ".py",
   "mimetype": "text/x-python",
   "name": "python",
   "nbconvert_exporter": "python",
   "pygments_lexer": "ipython3",
   "version": "3.12.4"
  }
 },
 "nbformat": 4,
 "nbformat_minor": 2
}
